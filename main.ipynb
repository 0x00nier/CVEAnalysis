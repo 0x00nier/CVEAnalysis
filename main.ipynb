{
 "cells": [
  {
   "cell_type": "code",
   "execution_count": 32,
   "metadata": {
    "ExecuteTime": {
     "end_time": "2020-10-27T02:29:12.530746Z",
     "start_time": "2020-10-27T02:29:12.510807Z"
    }
   },
   "outputs": [],
   "source": [
    "import pandas as pd\n",
    "import numpy as np\n",
    "from sklearn.preprocessing import LabelEncoder,MinMaxScaler\n",
    "import datetime\n",
    "from sklearn.ensemble import RandomForestRegressor\n",
    "from sklearn.model_selection import train_test_split\n",
    "from sklearn.decomposition import PCA\n",
    "from mlxtend.plotting import plot_decision_regions"
   ]
  },
  {
   "cell_type": "code",
   "execution_count": 4,
   "metadata": {
    "ExecuteTime": {
     "end_time": "2020-10-27T02:21:41.331004Z",
     "start_time": "2020-10-27T02:21:36.511091Z"
    }
   },
   "outputs": [
    {
     "name": "stdout",
     "output_type": "stream",
     "text": [
      "<class 'pandas.core.frame.DataFrame'>\n",
      "Int64Index: 88751 entries, 0 to 173264\n",
      "Data columns (total 10 columns):\n",
      " #   Column                  Non-Null Count  Dtype  \n",
      "---  ------                  --------------  -----  \n",
      " 0   mod_date                88751 non-null  float64\n",
      " 1   pub_date                88751 non-null  float64\n",
      " 2   cvss                    88751 non-null  float64\n",
      " 3   access_authentication   88751 non-null  object \n",
      " 4   access_complexity       88751 non-null  object \n",
      " 5   access_vector           88751 non-null  object \n",
      " 6   impact_availability     88751 non-null  object \n",
      " 7   impact_confidentiality  88751 non-null  object \n",
      " 8   impact_integrity        88751 non-null  object \n",
      " 9   vulnerable_product      88751 non-null  object \n",
      "dtypes: float64(3), object(7)\n",
      "memory usage: 7.4+ MB\n"
     ]
    }
   ],
   "source": [
    "df=pd.read_csv('cve.csv')\n",
    "df.rename(columns={'Unnamed: 0':'cve_id'},inplace=True)\n",
    "df.dropna(inplace=True)\n",
    "df1=pd.read_csv('products.csv')\n",
    "newdf=df.merge(df1,left_on='cve_id',right_on='cve_id')\n",
    "newdf.iloc[:,:-1]=newdf.iloc[:,:-1].drop_duplicates()\n",
    "newdf=newdf.dropna()\n",
    "del [df,df1]\n",
    "df=newdf\n",
    "df.drop(columns=['cve_id','cwe_code','cwe_name','summary'],inplace=True)\n",
    "df.iloc[:,0:2]=df.iloc[:,0:2].applymap(lambda x: datetime.datetime.strptime(x, '%Y-%m-%d %H:%M:%S').timestamp())\n",
    "df.info()"
   ]
  },
  {
   "cell_type": "code",
   "execution_count": 5,
   "metadata": {
    "ExecuteTime": {
     "end_time": "2020-10-27T02:21:42.820995Z",
     "start_time": "2020-10-27T02:21:42.780671Z"
    }
   },
   "outputs": [
    {
     "data": {
      "text/html": [
       "<div>\n",
       "<style scoped>\n",
       "    .dataframe tbody tr th:only-of-type {\n",
       "        vertical-align: middle;\n",
       "    }\n",
       "\n",
       "    .dataframe tbody tr th {\n",
       "        vertical-align: top;\n",
       "    }\n",
       "\n",
       "    .dataframe thead th {\n",
       "        text-align: right;\n",
       "    }\n",
       "</style>\n",
       "<table border=\"1\" class=\"dataframe\">\n",
       "  <thead>\n",
       "    <tr style=\"text-align: right;\">\n",
       "      <th></th>\n",
       "      <th>mod_date</th>\n",
       "      <th>pub_date</th>\n",
       "      <th>cvss</th>\n",
       "      <th>access_authentication</th>\n",
       "      <th>access_complexity</th>\n",
       "      <th>access_vector</th>\n",
       "      <th>impact_availability</th>\n",
       "      <th>impact_confidentiality</th>\n",
       "      <th>impact_integrity</th>\n",
       "      <th>vulnerable_product</th>\n",
       "    </tr>\n",
       "  </thead>\n",
       "  <tbody>\n",
       "    <tr>\n",
       "      <th>0</th>\n",
       "      <td>1.573748e+09</td>\n",
       "      <td>1.573649e+09</td>\n",
       "      <td>7.8</td>\n",
       "      <td>NONE</td>\n",
       "      <td>LOW</td>\n",
       "      <td>NETWORK</td>\n",
       "      <td>NONE</td>\n",
       "      <td>COMPLETE</td>\n",
       "      <td>NONE</td>\n",
       "      <td>android</td>\n",
       "    </tr>\n",
       "    <tr>\n",
       "      <th>1</th>\n",
       "      <td>1.573747e+09</td>\n",
       "      <td>1.573649e+09</td>\n",
       "      <td>4.9</td>\n",
       "      <td>NONE</td>\n",
       "      <td>LOW</td>\n",
       "      <td>LOCAL</td>\n",
       "      <td>NONE</td>\n",
       "      <td>COMPLETE</td>\n",
       "      <td>NONE</td>\n",
       "      <td>android</td>\n",
       "    </tr>\n",
       "    <tr>\n",
       "      <th>2</th>\n",
       "      <td>1.573747e+09</td>\n",
       "      <td>1.573649e+09</td>\n",
       "      <td>6.9</td>\n",
       "      <td>NONE</td>\n",
       "      <td>MEDIUM</td>\n",
       "      <td>LOCAL</td>\n",
       "      <td>COMPLETE</td>\n",
       "      <td>COMPLETE</td>\n",
       "      <td>COMPLETE</td>\n",
       "      <td>android</td>\n",
       "    </tr>\n",
       "    <tr>\n",
       "      <th>3</th>\n",
       "      <td>1.573747e+09</td>\n",
       "      <td>1.573649e+09</td>\n",
       "      <td>7.2</td>\n",
       "      <td>NONE</td>\n",
       "      <td>LOW</td>\n",
       "      <td>LOCAL</td>\n",
       "      <td>COMPLETE</td>\n",
       "      <td>COMPLETE</td>\n",
       "      <td>COMPLETE</td>\n",
       "      <td>android</td>\n",
       "    </tr>\n",
       "    <tr>\n",
       "      <th>4</th>\n",
       "      <td>1.573746e+09</td>\n",
       "      <td>1.573656e+09</td>\n",
       "      <td>4.3</td>\n",
       "      <td>NONE</td>\n",
       "      <td>MEDIUM</td>\n",
       "      <td>NETWORK</td>\n",
       "      <td>NONE</td>\n",
       "      <td>NONE</td>\n",
       "      <td>PARTIAL</td>\n",
       "      <td>parallels_plesk_panel</td>\n",
       "    </tr>\n",
       "  </tbody>\n",
       "</table>\n",
       "</div>"
      ],
      "text/plain": [
       "       mod_date      pub_date  cvss access_authentication access_complexity  \\\n",
       "0  1.573748e+09  1.573649e+09   7.8                  NONE               LOW   \n",
       "1  1.573747e+09  1.573649e+09   4.9                  NONE               LOW   \n",
       "2  1.573747e+09  1.573649e+09   6.9                  NONE            MEDIUM   \n",
       "3  1.573747e+09  1.573649e+09   7.2                  NONE               LOW   \n",
       "4  1.573746e+09  1.573656e+09   4.3                  NONE            MEDIUM   \n",
       "\n",
       "  access_vector impact_availability impact_confidentiality impact_integrity  \\\n",
       "0       NETWORK                NONE               COMPLETE             NONE   \n",
       "1         LOCAL                NONE               COMPLETE             NONE   \n",
       "2         LOCAL            COMPLETE               COMPLETE         COMPLETE   \n",
       "3         LOCAL            COMPLETE               COMPLETE         COMPLETE   \n",
       "4       NETWORK                NONE                   NONE          PARTIAL   \n",
       "\n",
       "      vulnerable_product  \n",
       "0                android  \n",
       "1                android  \n",
       "2                android  \n",
       "3                android  \n",
       "4  parallels_plesk_panel  "
      ]
     },
     "execution_count": 5,
     "metadata": {},
     "output_type": "execute_result"
    }
   ],
   "source": [
    "df.head()"
   ]
  },
  {
   "cell_type": "code",
   "execution_count": 22,
   "metadata": {
    "ExecuteTime": {
     "end_time": "2020-10-27T02:26:00.140778Z",
     "start_time": "2020-10-27T02:26:00.065620Z"
    }
   },
   "outputs": [],
   "source": [
    "X=pd.get_dummies(df.iloc[:,3:9])\n",
    "y=df['cvss']"
   ]
  },
  {
   "cell_type": "code",
   "execution_count": 24,
   "metadata": {
    "ExecuteTime": {
     "end_time": "2020-10-27T02:26:10.110956Z",
     "start_time": "2020-10-27T02:26:10.060863Z"
    }
   },
   "outputs": [],
   "source": [
    " X_train, X_test, y_train, y_test = train_test_split(X, y, test_size=0.25, random_state=42)"
   ]
  },
  {
   "cell_type": "code",
   "execution_count": 25,
   "metadata": {
    "ExecuteTime": {
     "end_time": "2020-10-27T02:26:10.720967Z",
     "start_time": "2020-10-27T02:26:10.710583Z"
    }
   },
   "outputs": [],
   "source": [
    "model=RandomForestRegressor()"
   ]
  },
  {
   "cell_type": "code",
   "execution_count": 26,
   "metadata": {
    "ExecuteTime": {
     "end_time": "2020-10-27T02:26:15.760197Z",
     "start_time": "2020-10-27T02:26:11.071025Z"
    }
   },
   "outputs": [
    {
     "data": {
      "text/plain": [
       "RandomForestRegressor()"
      ]
     },
     "execution_count": 26,
     "metadata": {},
     "output_type": "execute_result"
    }
   ],
   "source": [
    "model.fit(X_train,y_train)"
   ]
  },
  {
   "cell_type": "code",
   "execution_count": 27,
   "metadata": {
    "ExecuteTime": {
     "end_time": "2020-10-27T02:26:40.870870Z",
     "start_time": "2020-10-27T02:26:40.228466Z"
    }
   },
   "outputs": [
    {
     "name": "stdout",
     "output_type": "stream",
     "text": [
      "0.9999334683049148\n",
      "0.9996580312125497\n"
     ]
    }
   ],
   "source": [
    "print(model.score(X_train,y_train))\n",
    "print(model.score(X_test,y_test))"
   ]
  },
  {
   "cell_type": "code",
   "execution_count": null,
   "metadata": {},
   "outputs": [],
   "source": []
  }
 ],
 "metadata": {
  "kernelspec": {
   "display_name": "Python 3",
   "language": "python",
   "name": "python3"
  },
  "language_info": {
   "codemirror_mode": {
    "name": "ipython",
    "version": 3
   },
   "file_extension": ".py",
   "mimetype": "text/x-python",
   "name": "python",
   "nbconvert_exporter": "python",
   "pygments_lexer": "ipython3",
   "version": "3.8.5"
  },
  "varInspector": {
   "cols": {
    "lenName": 16,
    "lenType": 16,
    "lenVar": 40
   },
   "kernels_config": {
    "python": {
     "delete_cmd_postfix": "",
     "delete_cmd_prefix": "del ",
     "library": "var_list.py",
     "varRefreshCmd": "print(var_dic_list())"
    },
    "r": {
     "delete_cmd_postfix": ") ",
     "delete_cmd_prefix": "rm(",
     "library": "var_list.r",
     "varRefreshCmd": "cat(var_dic_list()) "
    }
   },
   "types_to_exclude": [
    "module",
    "function",
    "builtin_function_or_method",
    "instance",
    "_Feature"
   ],
   "window_display": false
  }
 },
 "nbformat": 4,
 "nbformat_minor": 4
}
